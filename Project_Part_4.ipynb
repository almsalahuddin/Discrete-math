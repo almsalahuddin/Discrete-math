{
  "nbformat": 4,
  "nbformat_minor": 0,
  "metadata": {
    "colab": {
      "name": "Project Part 4.ipynb",
      "provenance": [],
      "collapsed_sections": [],
      "authorship_tag": "ABX9TyMbAGXjw21FPScbyTFhtBAd",
      "include_colab_link": true
    },
    "kernelspec": {
      "name": "python3",
      "display_name": "Python 3"
    },
    "language_info": {
      "name": "python"
    }
  },
  "cells": [
    {
      "cell_type": "markdown",
      "metadata": {
        "id": "view-in-github",
        "colab_type": "text"
      },
      "source": [
        "<a href=\"https://colab.research.google.com/github/almsalahuddin/Discrete-math/blob/main/Project_Part_4.ipynb\" target=\"_parent\"><img src=\"https://colab.research.google.com/assets/colab-badge.svg\" alt=\"Open In Colab\"/></a>"
      ]
    },
    {
      "cell_type": "markdown",
      "source": [
        "# Project Part # 4 : CPSMA 3133 [Dr. Jacob's](https://github.com/nurfnick) Discrete Mathematics \n",
        "\n",
        "## Logic and Proof\n",
        "\n",
        "### A L M SALAHUDDIN"
      ],
      "metadata": {
        "id": "wBo4oJGmrLdZ"
      }
    },
    {
      "cell_type": "markdown",
      "source": [
        "## 1 Logic"
      ],
      "metadata": {
        "id": "qJJiECFKgb8C"
      }
    },
    {
      "cell_type": "markdown",
      "source": [
        "First, I will create some propositions."
      ],
      "metadata": {
        "id": "F6mOUbiAgkpa"
      }
    },
    {
      "cell_type": "code",
      "metadata": {
        "id": "fhzDVKmXZ8aI"
      },
      "source": [
        "SalWakeupEarly = False\n",
        "SalPlayBadminton = True\n",
        "SalLiketoCook = False\n",
        "SallikeMath = True\n",
        "SalGraduatingNextSemester= True"
      ],
      "execution_count": null,
      "outputs": []
    },
    {
      "cell_type": "markdown",
      "source": [
        " I have 5 propositions instead of 3. I created all these in the lab so I kept it this way."
      ],
      "metadata": {
        "id": "NJkufnfShC10"
      }
    },
    {
      "cell_type": "markdown",
      "source": [
        "$$r \\land p$$"
      ],
      "metadata": {
        "id": "_IxHar_5sHOQ"
      }
    },
    {
      "cell_type": "code",
      "metadata": {
        "colab": {
          "base_uri": "https://localhost:8080/"
        },
        "id": "iT8x09HaDNcx",
        "outputId": "be545bd6-90c4-40f1-b6a0-86c0a57cc11b"
      },
      "source": [
        "SallikeMath and SalGraduatingNextSemester "
      ],
      "execution_count": null,
      "outputs": [
        {
          "output_type": "execute_result",
          "data": {
            "text/plain": [
              "True"
            ]
          },
          "metadata": {},
          "execution_count": 28
        }
      ]
    },
    {
      "cell_type": "markdown",
      "source": [
        "Above, answer is true because both statements are true."
      ],
      "metadata": {
        "id": "O5NzK4GJcf6b"
      }
    },
    {
      "cell_type": "markdown",
      "source": [
        "$$r \\lor \\lnot q$$"
      ],
      "metadata": {
        "id": "bG18VgkdsCxA"
      }
    },
    {
      "cell_type": "code",
      "metadata": {
        "colab": {
          "base_uri": "https://localhost:8080/"
        },
        "id": "6TJBflCKConw",
        "outputId": "448992ad-125f-4729-dffb-ec70fbe5c9e5"
      },
      "source": [
        "SalGraduatingNextSemester or not(SalWakeupEarly)"
      ],
      "execution_count": null,
      "outputs": [
        {
          "output_type": "execute_result",
          "data": {
            "text/plain": [
              "True"
            ]
          },
          "metadata": {},
          "execution_count": 4
        }
      ]
    },
    {
      "cell_type": "markdown",
      "source": [
        "Above, SalGraduatingNextSemester is true and SalWakeupEarly is false but we have not statement before SalWakeupEarly. We know, not false is true that's why output is true."
      ],
      "metadata": {
        "id": "jsOCcUdtcyFN"
      }
    },
    {
      "cell_type": "markdown",
      "source": [
        "For next step, I am unable to find how to compute the truth statement for $r\\Rightarrow p$ but I will compute $\\lnot p \\lor q$ as professor Dr. Jacob did in his file."
      ],
      "metadata": {
        "id": "jV6BG9W0sSvn"
      }
    },
    {
      "cell_type": "code",
      "metadata": {
        "colab": {
          "base_uri": "https://localhost:8080/"
        },
        "id": "1My2uDOQD3G-",
        "outputId": "15ec5d56-1dec-482b-a629-0b40e7385d80"
      },
      "source": [
        "def implies(p,q):\n",
        "  return not(p) or q\n",
        "\n",
        "implies(SalPlayBadminton,SalGraduatingNextSemester)"
      ],
      "execution_count": null,
      "outputs": [
        {
          "output_type": "execute_result",
          "data": {
            "text/plain": [
              "True"
            ]
          },
          "metadata": {},
          "execution_count": 5
        }
      ]
    },
    {
      "cell_type": "markdown",
      "source": [
        "Next, I will try to use Xor the way Dr. Jacob showed us to do and see if it works. There is no inbuild function for Xor in python that;s why we will use this `^` sign to compute Xor statement."
      ],
      "metadata": {
        "id": "Bz3WOnB7eFpJ"
      }
    },
    {
      "cell_type": "code",
      "metadata": {
        "colab": {
          "base_uri": "https://localhost:8080/"
        },
        "id": "3tu5dO5tEIlQ",
        "outputId": "2eaec1a4-47ad-4828-ac17-eea2814b2c5d"
      },
      "source": [
        "print(True ^ False)\n",
        "print(False ^ False)\n",
        "print(True ^ True)"
      ],
      "execution_count": null,
      "outputs": [
        {
          "output_type": "stream",
          "name": "stdout",
          "text": [
            "True\n",
            "False\n",
            "False\n"
          ]
        }
      ]
    },
    {
      "cell_type": "markdown",
      "source": [
        "Next, I will make a truth table for \n",
        "\n",
        "$$\\lnot(r\\oplus p) \\Rightarrow \\left(p\\lor q\\right)$$.   \n",
        "\n",
        "\n"
      ],
      "metadata": {
        "id": "B19lPnawaPGd"
      }
    },
    {
      "cell_type": "code",
      "metadata": {
        "colab": {
          "base_uri": "https://localhost:8080/"
        },
        "id": "19Qil0ruF-k_",
        "outputId": "0eb96c85-4a75-4639-f214-3c536185dca8"
      },
      "source": [
        "values = [True,False]\n",
        "table = []\n",
        "\n",
        "for r in values:\n",
        "  for p in values:\n",
        "    for q in values: \n",
        "      row =[]\n",
        "      row.append(r)\n",
        "      row.append(p)\n",
        "      row.append(q)\n",
        "      row.append(not(r ^ p))\n",
        "      row.append(p or q)\n",
        "      row.append(implies (not(r ^ p),(p or q)))\n",
        "      table.append(row)\n",
        "table      "
      ],
      "execution_count": null,
      "outputs": [
        {
          "output_type": "execute_result",
          "data": {
            "text/plain": [
              "[[True, True, True, True, True, True],\n",
              " [True, True, False, True, True, True],\n",
              " [True, False, True, False, True, True],\n",
              " [True, False, False, False, False, True],\n",
              " [False, True, True, False, True, True],\n",
              " [False, True, False, False, True, True],\n",
              " [False, False, True, True, True, True],\n",
              " [False, False, False, True, False, False]]"
            ]
          },
          "metadata": {},
          "execution_count": 27
        }
      ]
    },
    {
      "cell_type": "markdown",
      "source": [
        "## 2 Proof"
      ],
      "metadata": {
        "id": "zBpWsyKc4z0B"
      }
    },
    {
      "cell_type": "markdown",
      "source": [
        "I am going to prove that the roots of \n",
        "$$ y = x^2+6x-16$$\n",
        "are $(2,0)$ and $(-8,0)$."
      ],
      "metadata": {
        "id": "yWiiEzp_yNGF"
      }
    },
    {
      "cell_type": "code",
      "source": [
        "import matplotlib.pyplot as plt\n",
        "import numpy as np\n",
        "\n",
        "x = np.arange(-9,3,.1) #first value, last value, stepsize = .1\n",
        "\n",
        "plt.plot(x,x**2+6*x-16)\n",
        "plt.scatter(2,0, c='red',s = 40)#plotting the points too x,y,color,size\n",
        "plt.scatter(-8,0,c='red',s = 40)\n",
        "plt.show()"
      ],
      "metadata": {
        "colab": {
          "base_uri": "https://localhost:8080/",
          "height": 265
        },
        "id": "2lH2KiQQz96k",
        "outputId": "4e425c9f-f5d5-4484-836f-cbcb2e46bd7b"
      },
      "execution_count": null,
      "outputs": [
        {
          "output_type": "display_data",
          "data": {
            "image/png": "[encoded data removed]",
            "text/plain": [
              "<Figure size 432x288 with 1 Axes>"
            ]
          },
          "metadata": {
            "needs_background": "light"
          }
        }
      ]
    },
    {
      "cell_type": "markdown",
      "source": [
        "To be a root of the equation, the point must be of the form $(r,0)$.  Both of these satisfy this requirement.  So the points are both candidates for roots but now for the proof I will ask using python if it is true that $0 = 2^2+6*2-16$? "
      ],
      "metadata": {
        "id": "4RZsm5nT1GmY"
      }
    },
    {
      "cell_type": "code",
      "source": [
        "0 == 2**2+6*2-16"
      ],
      "metadata": {
        "colab": {
          "base_uri": "https://localhost:8080/"
        },
        "id": "qJCYe2xd1ncC",
        "outputId": "343030b7-c40a-452f-a070-5a674c57fc16"
      },
      "execution_count": null,
      "outputs": [
        {
          "output_type": "execute_result",
          "data": {
            "text/plain": [
              "True"
            ]
          },
          "metadata": {},
          "execution_count": 34
        }
      ]
    },
    {
      "cell_type": "markdown",
      "source": [
        "Next, I will prove that $0 = \\left(-8\\right)^2+6(-8)-16$ "
      ],
      "metadata": {
        "id": "sSWc4eUF5KNH"
      }
    },
    {
      "cell_type": "code",
      "source": [
        "0==(-8)**2+6*(-8)-16"
      ],
      "metadata": {
        "colab": {
          "base_uri": "https://localhost:8080/"
        },
        "id": "hmhb7gin1ue7",
        "outputId": "17f56fec-4793-468b-df7a-f7f474835a46"
      },
      "execution_count": null,
      "outputs": [
        {
          "output_type": "execute_result",
          "data": {
            "text/plain": [
              "True"
            ]
          },
          "metadata": {},
          "execution_count": 36
        }
      ]
    },
    {
      "cell_type": "markdown",
      "source": [
        "This proved that both are the roots of the equation! Q.E.D."
      ],
      "metadata": {
        "id": "9R7KM6uy5r8_"
      }
    }
  ]
}