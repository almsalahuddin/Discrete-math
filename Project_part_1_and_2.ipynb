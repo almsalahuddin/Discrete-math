{
  "nbformat": 4,
  "nbformat_minor": 0,
  "metadata": {
    "colab": {
      "name": "Project part 1 and 2.ipynb",
      "provenance": [],
      "collapsed_sections": [],
      "authorship_tag": "ABX9TyPOompoHgFUqOG60okbP2Vm",
      "include_colab_link": true
    },
    "kernelspec": {
      "name": "python3",
      "display_name": "Python 3"
    },
    "language_info": {
      "name": "python"
    }
  },
  "cells": [
    {
      "cell_type": "markdown",
      "metadata": {
        "id": "view-in-github",
        "colab_type": "text"
      },
      "source": [
        "<a href=\"https://colab.research.google.com/github/almsalahuddin/Discrete-math/blob/main/Project_part_1_and_2.ipynb\" target=\"_parent\"><img src=\"https://colab.research.google.com/assets/colab-badge.svg\" alt=\"Open In Colab\"/></a>"
      ]
    },
    {
      "cell_type": "markdown",
      "metadata": {
        "id": "t5dOCU3C6DLx"
      },
      "source": [
        "# Project Part 1 # : CPSMA 3133 Discrete Mathematics\n",
        "\n",
        "## Sets, Relations, Functions and Dictionaries\n",
        "\n",
        "### A L M SALAHUDDIN"
      ]
    },
    {
      "cell_type": "markdown",
      "metadata": {
        "id": "Mk2EwbSIj9j0"
      },
      "source": [
        "#1. Sets\n",
        "\n",
        "I build 3 different sets that contain fruits name and containing at least 5 elements each and name of the sets are A, B, and C. Also, I created a Universal, U, set which contain\n",
        "all elements present in A, B, and C and 5 other elements that are not present in any of those 3 sets."
      ]
    },
    {
      "cell_type": "code",
      "metadata": {
        "id": "SN97oCyZ5oFC"
      },
      "source": [
        "A = ['apple','orrange','mango','pineapple','cherry']\n",
        "B = ['grape','strawberry','banana','watermelon','mango']\n",
        "C = ['cherry','pears', 'papaya','coconut', 'strawberry']\n",
        "U = ['apple','orrange','mango','pineapple','cherry','grape','strawberry','banana','watermelon','mango', 'cherry','pears', 'papaya','coconut', 'strawberry', 'dragon-fruit', 'fig', 'plum', 'avogado', 'pears']"
      ],
      "execution_count": null,
      "outputs": []
    },
    {
      "cell_type": "code",
      "metadata": {
        "colab": {
          "base_uri": "https://localhost:8080/"
        },
        "id": "LqK6KVMQ5IfO",
        "outputId": "d0da7347-d422-4feb-d928-34bf991ce9c7"
      },
      "source": [
        "AUB = []\n",
        "for character in A:\n",
        "  AUB.append(character) #Add all characters from A\n",
        "for character in B:\n",
        "  AUB.append(character) # Add all characters from B\n",
        "\n",
        "AUB = set(AUB) #change the list to a set removes duplicates and alphabetize\n",
        "\n",
        "AUB "
      ],
      "execution_count": null,
      "outputs": [
        {
          "output_type": "execute_result",
          "data": {
            "text/plain": [
              "{'apple',\n",
              " 'banana',\n",
              " 'cherry',\n",
              " 'grape',\n",
              " 'mango',\n",
              " 'orrange',\n",
              " 'pineapple',\n",
              " 'strawberry',\n",
              " 'watermelon'}"
            ]
          },
          "metadata": {},
          "execution_count": 73
        }
      ]
    },
    {
      "cell_type": "markdown",
      "metadata": {
        "id": "esHcVEaUmNmJ"
      },
      "source": [
        "Above, I calculated A union B using for loop and append function."
      ]
    },
    {
      "cell_type": "code",
      "metadata": {
        "colab": {
          "base_uri": "https://localhost:8080/"
        },
        "id": "ZA0trNFNYRtk",
        "outputId": "1466931b-b1c9-4142-ed68-306a3ebc5988"
      },
      "source": [
        "AUC = []\n",
        "for character in A:\n",
        "  AUC.append(character) #Add all characters from A\n",
        "for character in C:\n",
        "  AUC.append(character) # Add all characters from B\n",
        "\n",
        "AUC = set(AUC) #change the list to a set removes duplicates and alphabetize\n",
        "\n",
        "AUC "
      ],
      "execution_count": null,
      "outputs": [
        {
          "output_type": "execute_result",
          "data": {
            "text/plain": [
              "{'apple',\n",
              " 'cherry',\n",
              " 'coconut',\n",
              " 'mango',\n",
              " 'orrange',\n",
              " 'papaya',\n",
              " 'pears',\n",
              " 'pineapple',\n",
              " 'strawberry'}"
            ]
          },
          "metadata": {},
          "execution_count": 64
        }
      ]
    },
    {
      "cell_type": "markdown",
      "metadata": {
        "id": "kFF4ufkyma1O"
      },
      "source": [
        "Above, I calculated A union C using for loop and append function."
      ]
    },
    {
      "cell_type": "code",
      "metadata": {
        "colab": {
          "base_uri": "https://localhost:8080/"
        },
        "id": "oIeebYx0Ybdt",
        "outputId": "bfda4de0-4edc-42fe-f87a-1206ad8f6fa4"
      },
      "source": [
        "BUC = []\n",
        "for character in B:\n",
        "  BUC.append(character) #Add all characters from A\n",
        "for character in C:\n",
        "  BUC.append(character) # Add all characters from B\n",
        "\n",
        "BUC = set(BUC) #change the list to a set removes duplicates and alphabetize\n",
        "\n",
        "BUC "
      ],
      "execution_count": null,
      "outputs": [
        {
          "output_type": "execute_result",
          "data": {
            "text/plain": [
              "{'banana',\n",
              " 'cherry',\n",
              " 'coconut',\n",
              " 'grape',\n",
              " 'mango',\n",
              " 'papaya',\n",
              " 'pears',\n",
              " 'strawberry',\n",
              " 'watermelon'}"
            ]
          },
          "metadata": {},
          "execution_count": 65
        }
      ]
    },
    {
      "cell_type": "markdown",
      "metadata": {
        "id": "WwiOodUJmfce"
      },
      "source": [
        "\n",
        "\n",
        "Above, I calculated B union C using for loop and append function."
      ]
    },
    {
      "cell_type": "code",
      "metadata": {
        "colab": {
          "base_uri": "https://localhost:8080/"
        },
        "id": "JAATPFJa76I7",
        "outputId": "2b4ab5fb-c546-4d8b-aeb7-248ea4888bb3"
      },
      "source": [
        "IntersectionAB=[]\n",
        "\n",
        "for a in A:\n",
        "  if a in B:\n",
        "    IntersectionAB.append(a)\n",
        "\n",
        "IntersectionAB"
      ],
      "execution_count": null,
      "outputs": [
        {
          "output_type": "execute_result",
          "data": {
            "text/plain": [
              "['mango']"
            ]
          },
          "metadata": {},
          "execution_count": 74
        }
      ]
    },
    {
      "cell_type": "markdown",
      "metadata": {
        "id": "QLjia6S8mjFo"
      },
      "source": [
        "Above, I calculated A intersection B using for loop and append function."
      ]
    },
    {
      "cell_type": "code",
      "metadata": {
        "colab": {
          "base_uri": "https://localhost:8080/"
        },
        "id": "qdry-oK7882m",
        "outputId": "7446244f-895c-4d42-bddb-79bd41947496"
      },
      "source": [
        "set(A).intersection(set(C))"
      ],
      "execution_count": null,
      "outputs": [
        {
          "output_type": "execute_result",
          "data": {
            "text/plain": [
              "{'cherry'}"
            ]
          },
          "metadata": {},
          "execution_count": 67
        }
      ]
    },
    {
      "cell_type": "markdown",
      "metadata": {
        "id": "IBSmcAedmrgT"
      },
      "source": [
        "Above, I calculated A intersection C. This is another way to get intersection. It is shorter and easier way in my opinion."
      ]
    },
    {
      "cell_type": "code",
      "metadata": {
        "colab": {
          "base_uri": "https://localhost:8080/"
        },
        "id": "tMJ4t5CHZGul",
        "outputId": "68301023-c158-4d3e-f0de-3627ae32f341"
      },
      "source": [
        "set(B).intersection(set(C))"
      ],
      "execution_count": null,
      "outputs": [
        {
          "output_type": "execute_result",
          "data": {
            "text/plain": [
              "{'strawberry'}"
            ]
          },
          "metadata": {},
          "execution_count": 68
        }
      ]
    },
    {
      "cell_type": "markdown",
      "metadata": {
        "id": "VoJsOQjTnMll"
      },
      "source": [
        "Above, I calculated B intersection C."
      ]
    },
    {
      "cell_type": "code",
      "metadata": {
        "colab": {
          "base_uri": "https://localhost:8080/"
        },
        "id": "yuhfqR8N9_EZ",
        "outputId": "c416288a-ab5c-4bf0-ef5b-04c5eb10cbdb"
      },
      "source": [
        "AComplement =[]\n",
        "\n",
        "for character in U:\n",
        "  if character not in A:\n",
        "    AComplement.append(character)\n",
        "\n",
        "AComplement"
      ],
      "execution_count": null,
      "outputs": [
        {
          "output_type": "execute_result",
          "data": {
            "text/plain": [
              "['grape',\n",
              " 'strawberry',\n",
              " 'banana',\n",
              " 'watermelon',\n",
              " 'pears',\n",
              " 'papaya',\n",
              " 'coconut',\n",
              " 'strawberry',\n",
              " 'dragon-fruit',\n",
              " 'fig',\n",
              " 'plum',\n",
              " 'avogado',\n",
              " 'pears']"
            ]
          },
          "metadata": {},
          "execution_count": 69
        }
      ]
    },
    {
      "cell_type": "markdown",
      "metadata": {
        "id": "ZCd9bOl8nq6j"
      },
      "source": [
        "\n",
        "Above, I calculated A complement means all the elements in Universal set but not in A set using for loop, if statement and append function."
      ]
    },
    {
      "cell_type": "code",
      "metadata": {
        "colab": {
          "base_uri": "https://localhost:8080/"
        },
        "id": "68wK464If4PB",
        "outputId": "d078a7f5-9950-4ffb-de9d-1ae19ed2d820"
      },
      "source": [
        "BComplement =[]\n",
        "\n",
        "for character in U:\n",
        "  if character not in B:\n",
        "    BComplement.append(character)\n",
        "\n",
        "BComplement"
      ],
      "execution_count": null,
      "outputs": [
        {
          "output_type": "execute_result",
          "data": {
            "text/plain": [
              "['apple',\n",
              " 'orrange',\n",
              " 'pineapple',\n",
              " 'cherry',\n",
              " 'cherry',\n",
              " 'pears',\n",
              " 'papaya',\n",
              " 'coconut',\n",
              " 'dragon-fruit',\n",
              " 'fig',\n",
              " 'plum',\n",
              " 'avogado',\n",
              " 'pears']"
            ]
          },
          "metadata": {},
          "execution_count": 70
        }
      ]
    },
    {
      "cell_type": "markdown",
      "metadata": {
        "id": "zxh59Iq4oBkX"
      },
      "source": [
        "Above, I calculated B complement means all the elements in Universal set but not in B set using for loop, if statement and append function."
      ]
    },
    {
      "cell_type": "code",
      "metadata": {
        "colab": {
          "base_uri": "https://localhost:8080/"
        },
        "id": "5QNROHihgAAy",
        "outputId": "2a2c059e-3ac1-4163-c76e-7af182189366"
      },
      "source": [
        "CComplement =[]\n",
        "\n",
        "for character in U:\n",
        "  if character not in C:\n",
        "    CComplement.append(character)\n",
        "\n",
        "CComplement"
      ],
      "execution_count": null,
      "outputs": [
        {
          "output_type": "execute_result",
          "data": {
            "text/plain": [
              "['apple',\n",
              " 'orrange',\n",
              " 'mango',\n",
              " 'pineapple',\n",
              " 'grape',\n",
              " 'banana',\n",
              " 'watermelon',\n",
              " 'mango',\n",
              " 'dragon-fruit',\n",
              " 'fig',\n",
              " 'plum',\n",
              " 'avogado']"
            ]
          },
          "metadata": {},
          "execution_count": 71
        }
      ]
    },
    {
      "cell_type": "markdown",
      "metadata": {
        "id": "ZogNvjfjoFD1"
      },
      "source": [
        "Above, I calculated C complement means all the elements in Universal set but not in C set using for loop, if statement and append function."
      ]
    },
    {
      "cell_type": "code",
      "metadata": {
        "colab": {
          "base_uri": "https://localhost:8080/"
        },
        "id": "uhq8v0cSgz43",
        "outputId": "d443b18d-4bc3-4b84-ecd5-b4af5cc4269e"
      },
      "source": [
        "AUBComplement =[]\n",
        "\n",
        "for character in U:\n",
        "  if character not in AUB:\n",
        "    AUBComplement.append(character)\n",
        "\n",
        "AUBComplement"
      ],
      "execution_count": null,
      "outputs": [
        {
          "output_type": "execute_result",
          "data": {
            "text/plain": [
              "['pears',\n",
              " 'papaya',\n",
              " 'coconut',\n",
              " 'dragon-fruit',\n",
              " 'fig',\n",
              " 'plum',\n",
              " 'avogado',\n",
              " 'pears']"
            ]
          },
          "metadata": {},
          "execution_count": 72
        }
      ]
    },
    {
      "cell_type": "markdown",
      "metadata": {
        "id": "ouZp_FwxoWHd"
      },
      "source": [
        "Above, I calculated (A union B) complement means all the elements in Universal set but not in A&B sets using for loop, if statement and append function."
      ]
    },
    {
      "cell_type": "code",
      "metadata": {
        "colab": {
          "base_uri": "https://localhost:8080/"
        },
        "id": "UysGS4lUTJyK",
        "outputId": "2bc47063-2661-406e-bc87-7ec68b2c9ba8"
      },
      "source": [
        "setofSets = [A,B,C]\n",
        "U = []\n",
        "for sett in setofSets:\n",
        "  for character in sett:\n",
        "    U.append(character)\n",
        "\n",
        "set(U)"
      ],
      "execution_count": null,
      "outputs": [
        {
          "output_type": "execute_result",
          "data": {
            "text/plain": [
              "{'apple',\n",
              " 'banana',\n",
              " 'cherry',\n",
              " 'coconut',\n",
              " 'grape',\n",
              " 'mango',\n",
              " 'orrange',\n",
              " 'papaya',\n",
              " 'pears',\n",
              " 'pineapple',\n",
              " 'strawberry',\n",
              " 'watermelon'}"
            ]
          },
          "metadata": {},
          "execution_count": 3
        }
      ]
    },
    {
      "cell_type": "code",
      "metadata": {
        "colab": {
          "base_uri": "https://localhost:8080/"
        },
        "id": "jm5yhyMylVDr",
        "outputId": "39e40382-c611-4e6a-e757-f85c78a4060e"
      },
      "source": [
        "def IsASubset(A,B):\n",
        "  for a in A:\n",
        "    if a not in B:\n",
        "      return False\n",
        "  return True\n",
        "\n",
        "IsASubset(A,U)"
      ],
      "execution_count": null,
      "outputs": [
        {
          "output_type": "execute_result",
          "data": {
            "text/plain": [
              "True"
            ]
          },
          "metadata": {},
          "execution_count": 76
        }
      ]
    },
    {
      "cell_type": "markdown",
      "metadata": {
        "id": "oNzi7Tfbo3gC"
      },
      "source": [
        "Above, I created a def function using for loop and if statement to find out if A is a subset of Universal set? It shows \"TRUE\" means A is a subset of Universal set.\n"
      ]
    },
    {
      "cell_type": "code",
      "metadata": {
        "id": "OU9efpbtgR6Y"
      },
      "source": [
        "def DPpowerset(s):\n",
        "  powerset = [[]]\n",
        "  for i in s:\n",
        "    for sett in powerset:\n",
        "      powerset = powerset + [sett + [i]]\n",
        "  return powerset"
      ],
      "execution_count": null,
      "outputs": []
    },
    {
      "cell_type": "markdown",
      "metadata": {
        "id": "eVC5BMFJpTm-"
      },
      "source": [
        "Above, I created a def function using for loop and if statement to creat a powerset."
      ]
    },
    {
      "cell_type": "code",
      "metadata": {
        "colab": {
          "base_uri": "https://localhost:8080/"
        },
        "id": "YVWgxdo2gT29",
        "outputId": "353688c2-a91c-4c15-b8b0-c75869f9aa7f"
      },
      "source": [
        "DPpowerset(A)"
      ],
      "execution_count": null,
      "outputs": [
        {
          "output_type": "execute_result",
          "data": {
            "text/plain": [
              "[[],\n",
              " ['apple'],\n",
              " ['orrange'],\n",
              " ['apple', 'orrange'],\n",
              " ['mango'],\n",
              " ['apple', 'mango'],\n",
              " ['orrange', 'mango'],\n",
              " ['apple', 'orrange', 'mango'],\n",
              " ['pineapple'],\n",
              " ['apple', 'pineapple'],\n",
              " ['orrange', 'pineapple'],\n",
              " ['apple', 'orrange', 'pineapple'],\n",
              " ['mango', 'pineapple'],\n",
              " ['apple', 'mango', 'pineapple'],\n",
              " ['orrange', 'mango', 'pineapple'],\n",
              " ['apple', 'orrange', 'mango', 'pineapple'],\n",
              " ['cherry'],\n",
              " ['apple', 'cherry'],\n",
              " ['orrange', 'cherry'],\n",
              " ['apple', 'orrange', 'cherry'],\n",
              " ['mango', 'cherry'],\n",
              " ['apple', 'mango', 'cherry'],\n",
              " ['orrange', 'mango', 'cherry'],\n",
              " ['apple', 'orrange', 'mango', 'cherry'],\n",
              " ['pineapple', 'cherry'],\n",
              " ['apple', 'pineapple', 'cherry'],\n",
              " ['orrange', 'pineapple', 'cherry'],\n",
              " ['apple', 'orrange', 'pineapple', 'cherry'],\n",
              " ['mango', 'pineapple', 'cherry'],\n",
              " ['apple', 'mango', 'pineapple', 'cherry'],\n",
              " ['orrange', 'mango', 'pineapple', 'cherry'],\n",
              " ['apple', 'orrange', 'mango', 'pineapple', 'cherry']]"
            ]
          },
          "metadata": {},
          "execution_count": 57
        }
      ]
    },
    {
      "cell_type": "code",
      "metadata": {
        "colab": {
          "base_uri": "https://localhost:8080/"
        },
        "id": "xc_HFYrrkx64",
        "outputId": "be7fc0af-f59f-4484-ecd4-b34690c95b27"
      },
      "source": [
        "def powerset(s):\n",
        "    x = len(s)\n",
        "    masks = [2**i for i in range(x)]\n",
        "    for i in range(2**x):\n",
        "        yield [ss for mask, ss in zip(masks, s) if i & mask]\n",
        "\n",
        "print(list(powerset(A)))"
      ],
      "execution_count": null,
      "outputs": [
        {
          "output_type": "stream",
          "name": "stdout",
          "text": [
            "[[], ['apple'], ['orrange'], ['apple', 'orrange'], ['mango'], ['apple', 'mango'], ['orrange', 'mango'], ['apple', 'orrange', 'mango'], ['pineapple'], ['apple', 'pineapple'], ['orrange', 'pineapple'], ['apple', 'orrange', 'pineapple'], ['mango', 'pineapple'], ['apple', 'mango', 'pineapple'], ['orrange', 'mango', 'pineapple'], ['apple', 'orrange', 'mango', 'pineapple'], ['cherry'], ['apple', 'cherry'], ['orrange', 'cherry'], ['apple', 'orrange', 'cherry'], ['mango', 'cherry'], ['apple', 'mango', 'cherry'], ['orrange', 'mango', 'cherry'], ['apple', 'orrange', 'mango', 'cherry'], ['pineapple', 'cherry'], ['apple', 'pineapple', 'cherry'], ['orrange', 'pineapple', 'cherry'], ['apple', 'orrange', 'pineapple', 'cherry'], ['mango', 'pineapple', 'cherry'], ['apple', 'mango', 'pineapple', 'cherry'], ['orrange', 'mango', 'pineapple', 'cherry'], ['apple', 'orrange', 'mango', 'pineapple', 'cherry']]\n"
          ]
        }
      ]
    },
    {
      "cell_type": "markdown",
      "metadata": {
        "id": "vXXrSiEiplu-"
      },
      "source": [
        "Above, I converted Powerset of A to a list."
      ]
    },
    {
      "cell_type": "markdown",
      "metadata": {
        "id": "Ov9NTBTllwa7"
      },
      "source": [
        "# 2. Functions\n",
        "\n",
        "we will be defining a function below.\n",
        "\n",
        "$$\n",
        "f(x) = \\frac{\\pi}{\\sqrt{5}} e^{-x^2}\n",
        "$$\n"
      ]
    },
    {
      "cell_type": "code",
      "metadata": {
        "id": "Oh_8jkLA-0j0"
      },
      "source": [
        "import math\n",
        "import numpy as np\n",
        "\n",
        "def fruit(x):\n",
        "  return (math.pi)/math.sqrt(5)*np.e**(-x**2)"
      ],
      "execution_count": null,
      "outputs": []
    },
    {
      "cell_type": "markdown",
      "metadata": {
        "id": "evZNoIZvudSQ"
      },
      "source": [
        "Avove, I imported two libraries and def function to calculate fruit(x) function."
      ]
    },
    {
      "cell_type": "code",
      "metadata": {
        "colab": {
          "base_uri": "https://localhost:8080/"
        },
        "id": "oXwrSJae_LSU",
        "outputId": "3d06a34a-6eb5-4b09-d975-925a0258c6ac"
      },
      "source": [
        "fruit(0)"
      ],
      "execution_count": null,
      "outputs": [
        {
          "output_type": "execute_result",
          "data": {
            "text/plain": [
              "1.4049629462081452"
            ]
          },
          "metadata": {},
          "execution_count": 36
        }
      ]
    },
    {
      "cell_type": "code",
      "metadata": {
        "colab": {
          "base_uri": "https://localhost:8080/"
        },
        "id": "VvBQFJcY_Xjl",
        "outputId": "eb8b58a1-24d9-4348-b66d-561a18d6ba3a"
      },
      "source": [
        "fruit(1)"
      ],
      "execution_count": null,
      "outputs": [
        {
          "output_type": "execute_result",
          "data": {
            "text/plain": [
              "0.5168569835176356"
            ]
          },
          "metadata": {},
          "execution_count": 37
        }
      ]
    },
    {
      "cell_type": "code",
      "metadata": {
        "colab": {
          "base_uri": "https://localhost:8080/",
          "height": 282
        },
        "id": "2H4hLUh__Y9s",
        "outputId": "d502564c-4bf1-4aac-c1f8-71b27657ab3b"
      },
      "source": [
        "import matplotlib.pyplot as plt\n",
        "\n",
        "x = np.arange(-4,4,.1)\n",
        "\n",
        "plt.plot(x,fruit(x))"
      ],
      "execution_count": null,
      "outputs": [
        {
          "output_type": "execute_result",
          "data": {
            "text/plain": [
              "[<matplotlib.lines.Line2D at 0x7fa26faae110>]"
            ]
          },
          "metadata": {},
          "execution_count": 38
        },
        {
          "output_type": "display_data",
          "data": {
            "image/png": "[encoded data removed]",
            "text/plain": [
              "<Figure size 432x288 with 1 Axes>"
            ]
          },
          "metadata": {
            "needs_background": "light"
          }
        }
      ]
    },
    {
      "cell_type": "markdown",
      "metadata": {
        "id": "rF9XuoOTtqjE"
      },
      "source": [
        "My function is not one to one and not bijective on the graphed domain.The funtion is surjective or onto if every element in the range maped to at least one element from the domain so my funtion is \"Not Onto\" as well. Also, I tried and don't think I can make my function bijective if i change the domain and range."
      ]
    },
    {
      "cell_type": "markdown",
      "metadata": {
        "id": "wL9KWXz2UdPG"
      },
      "source": [
        " I will work on the interval $[0,4]$.  I'll compute the inverse by hand.\n",
        "\n",
        "$$\n",
        "y = \\frac{\\pi}{\\sqrt{5}} e^{-x^2}\n",
        "$$\n",
        "\n",
        "Swapping $x$ for $y$.\n",
        "\n",
        "$$\n",
        "x = \\frac{\\pi}{\\sqrt{5}} e^{-y^2}\n",
        "$$\n",
        "\n",
        "Now solve for $y$.\n",
        "\n",
        "$$\n",
        "\\ln\\left(\\sqrt{5}\\pi x\\right) = -{y^2}\n",
        "$$\n",
        "$$\n",
        "\\sqrt{\\ln\\left(\\sqrt{5}\\pi x\\right)} = \\sqrt{-y^2} \n",
        "$$\n",
        "$$\n",
        "y=\\sqrt{-\\ln\\left(\\sqrt{5}\\pi x\\right)} \n",
        "$$\n",
        "So we define the function"
      ]
    },
    {
      "cell_type": "code",
      "metadata": {
        "id": "NUmPb5t-nVrU"
      },
      "source": [
        "def fruitInverse(x):\n",
        "  return np.sqrt(-np.log(math.sqrt(5)*math.pi*x))"
      ],
      "execution_count": null,
      "outputs": []
    },
    {
      "cell_type": "code",
      "metadata": {
        "id": "DqduwTf-8qhl"
      },
      "source": [
        "fruitInverse(fruit(4))"
      ],
      "execution_count": null,
      "outputs": []
    },
    {
      "cell_type": "code",
      "metadata": {
        "colab": {
          "base_uri": "https://localhost:8080/",
          "height": 232
        },
        "id": "P-juu3WY8xzb",
        "outputId": "5a4c8ee3-ee49-45d1-b65e-074f54b6e1be"
      },
      "source": [
        "import matplotlib.pyplot as plt\n",
        "\n",
        "x1 = np.arange(0,4,1)\n",
        "x2 = np.arange(0,4,.01)\n",
        "\n",
        "plt.plot(x1,fruit(x1))\n",
        "plt.plot(x2,fruitInverse(x2))\n",
        "plt.plot(x1,x1)\n",
        "\n",
        "plt.xlim(0, 2)\n",
        "plt.ylim(0, 2)"
      ],
      "execution_count": null,
      "outputs": [
        {
          "output_type": "error",
          "ename": "NameError",
          "evalue": "ignored",
          "traceback": [
            "\u001b[0;31m---------------------------------------------------------------------------\u001b[0m",
            "\u001b[0;31mNameError\u001b[0m                                 Traceback (most recent call last)",
            "\u001b[0;32m<ipython-input-1-9ace3b427a7d>\u001b[0m in \u001b[0;36m<module>\u001b[0;34m()\u001b[0m\n\u001b[1;32m      1\u001b[0m \u001b[0;32mimport\u001b[0m \u001b[0mmatplotlib\u001b[0m\u001b[0;34m.\u001b[0m\u001b[0mpyplot\u001b[0m \u001b[0;32mas\u001b[0m \u001b[0mplt\u001b[0m\u001b[0;34m\u001b[0m\u001b[0;34m\u001b[0m\u001b[0m\n\u001b[1;32m      2\u001b[0m \u001b[0;34m\u001b[0m\u001b[0m\n\u001b[0;32m----> 3\u001b[0;31m \u001b[0mx1\u001b[0m \u001b[0;34m=\u001b[0m \u001b[0mnp\u001b[0m\u001b[0;34m.\u001b[0m\u001b[0marange\u001b[0m\u001b[0;34m(\u001b[0m\u001b[0;36m0\u001b[0m\u001b[0;34m,\u001b[0m\u001b[0;36m4\u001b[0m\u001b[0;34m,\u001b[0m\u001b[0;36m1\u001b[0m\u001b[0;34m)\u001b[0m\u001b[0;34m\u001b[0m\u001b[0;34m\u001b[0m\u001b[0m\n\u001b[0m\u001b[1;32m      4\u001b[0m \u001b[0mx2\u001b[0m \u001b[0;34m=\u001b[0m \u001b[0mnp\u001b[0m\u001b[0;34m.\u001b[0m\u001b[0marange\u001b[0m\u001b[0;34m(\u001b[0m\u001b[0;36m0\u001b[0m\u001b[0;34m,\u001b[0m\u001b[0;36m4\u001b[0m\u001b[0;34m,\u001b[0m\u001b[0;36m.01\u001b[0m\u001b[0;34m)\u001b[0m\u001b[0;34m\u001b[0m\u001b[0;34m\u001b[0m\u001b[0m\n\u001b[1;32m      5\u001b[0m \u001b[0;34m\u001b[0m\u001b[0m\n",
            "\u001b[0;31mNameError\u001b[0m: name 'np' is not defined"
          ]
        }
      ]
    },
    {
      "cell_type": "markdown",
      "metadata": {
        "id": "QAXn_Ewsm7Zn"
      },
      "source": [
        "# 3. Dictionaries\n",
        "\n",
        "I will be defining any dictionary from set A to B from part 1."
      ]
    },
    {
      "cell_type": "code",
      "metadata": {
        "id": "dTOQtH1Znqv4"
      },
      "source": [
        "A = ['apple','orrange','mango','pineapple','cherry']\n",
        "B = ['grape','strawberry','banana','watermelon','mango']\n",
        "\n",
        "dictionary = dict({a:b for a,b in zip(A, B)})"
      ],
      "execution_count": null,
      "outputs": []
    },
    {
      "cell_type": "code",
      "metadata": {
        "colab": {
          "base_uri": "https://localhost:8080/"
        },
        "id": "NdWTaL5AoEAQ",
        "outputId": "d0712d08-af24-4e0c-c704-3903c287f46e"
      },
      "source": [
        "dictionary"
      ],
      "execution_count": null,
      "outputs": [
        {
          "output_type": "execute_result",
          "data": {
            "text/plain": [
              "{'apple': 'grape',\n",
              " 'cherry': 'mango',\n",
              " 'mango': 'banana',\n",
              " 'orrange': 'strawberry',\n",
              " 'pineapple': 'watermelon'}"
            ]
          },
          "metadata": {},
          "execution_count": 79
        }
      ]
    },
    {
      "cell_type": "markdown",
      "metadata": {
        "id": "-6wmyUyGVZyT"
      },
      "source": [
        "This dictonary is a function but the relation is not an endo relation. We know a relation is reflexive if xRx for every x means apple has to be with apple. Above, none of them are reflexive. One the other hand we know that a relation is symmetric if for every xRy then yRx. So, If (cherry,mangoes) then there has to be (mango, cherry). Lastly we know a realation is transitive if for every xRy and yRz then xRz. There is no xRy and yRz in the dectionary so it's not mendetory to be xRz. So, we can say this relation is transitive."
      ]
    },
    {
      "cell_type": "code",
      "metadata": {
        "id": "d7f4Adtu_0Ye"
      },
      "source": [
        "actualDictionary = dict({'apple':'orrange','grape':'cherry','mango':'mango'})"
      ],
      "execution_count": null,
      "outputs": []
    },
    {
      "cell_type": "code",
      "metadata": {
        "id": "5nQpmr8TBN87"
      },
      "source": [
        "newList = [actualDictionary.get(x,x) for x in C ]"
      ],
      "execution_count": null,
      "outputs": []
    },
    {
      "cell_type": "code",
      "metadata": {
        "colab": {
          "base_uri": "https://localhost:8080/"
        },
        "id": "Am0nCLtDBRv6",
        "outputId": "a4501582-5b37-4c3b-c5f0-14b9ea22c1d8"
      },
      "source": [
        "newList"
      ],
      "execution_count": null,
      "outputs": [
        {
          "output_type": "execute_result",
          "data": {
            "text/plain": [
              "['cherry', 'pears', 'papaya', 'coconut', 'strawberry']"
            ]
          },
          "metadata": {},
          "execution_count": 29
        }
      ]
    },
    {
      "cell_type": "markdown",
      "metadata": {
        "id": "IQv2QnmRcgM7"
      },
      "source": [
        "Above, I applied the dictionary to set C from 1"
      ]
    },
    {
      "cell_type": "code",
      "metadata": {
        "id": "X1cevP65j372"
      },
      "source": [
        "newList2 = [actualDictionary.get(x,x) for x in A]"
      ],
      "execution_count": null,
      "outputs": []
    },
    {
      "cell_type": "code",
      "metadata": {
        "colab": {
          "base_uri": "https://localhost:8080/"
        },
        "id": "pHvyS7C3kSl9",
        "outputId": "ebf4a84a-e1aa-4f5a-d36e-f61aaf0c7687"
      },
      "source": [
        "newList2"
      ],
      "execution_count": null,
      "outputs": [
        {
          "output_type": "execute_result",
          "data": {
            "text/plain": [
              "['orrange', 'orrange', 'mango', 'pineapple', 'cherry']"
            ]
          },
          "metadata": {},
          "execution_count": 59
        }
      ]
    },
    {
      "cell_type": "markdown",
      "metadata": {
        "id": "PgoBkiyyYstH"
      },
      "source": [
        "I belive I was able to code everything **Dr. Jacob** asked in the questions exept getting code to work to find the number of elements would the power set of U have. Funtion part is the hardest part of all. It was difficult to find a funtion that has three features in it. I was confused about what kind of features it is asking in the question but hopefully I was able to creat a funtion based on the requirment. Also, my dictionary really didn't make any sence. As you said in your github not a meaningful dictionary. It is not possible to make it meaningfull because I only choose fruit as my element for all the sets."
      ]
    },
    {
      "cell_type": "markdown",
      "metadata": {
        "id": "YEHXrHPmaHMH"
      },
      "source": [
        "All the things, I have done above is easier to do by hand because I wouldn't have to know the python code to make it work. If i know the way of doing math I could easily do it but here, I know how to do the math and even know the answer but still had difficulty to get the answer on the screen because of errors in the code. \n",
        "\n",
        "As a begginer I would say, eventhoug it is hard way doing math but it is definitely a quick way to calculate big problems and fun way to do math."
      ]
    }
  ]
}