{
  "nbformat": 4,
  "nbformat_minor": 0,
  "metadata": {
    "colab": {
      "name": "Project part 3 and 4.ipynb",
      "provenance": [],
      "collapsed_sections": [],
      "authorship_tag": "ABX9TyMr+vT3X3yKxTqCKOG7gG/L",
      "include_colab_link": true
    },
    "kernelspec": {
      "name": "python3",
      "display_name": "Python 3"
    },
    "language_info": {
      "name": "python"
    }
  },
  "cells": [
    {
      "cell_type": "markdown",
      "metadata": {
        "id": "view-in-github",
        "colab_type": "text"
      },
      "source": [
        "<a href=\"https://colab.research.google.com/github/almsalahuddin/Discrete-math/blob/main/Project_part_3_and_4.ipynb\" target=\"_parent\"><img src=\"https://colab.research.google.com/assets/colab-badge.svg\" alt=\"Open In Colab\"/></a>"
      ]
    },
    {
      "cell_type": "markdown",
      "metadata": {
        "id": "E6PwpA832C0K"
      },
      "source": [
        "The probability of going on a vacation to New York in the fall break $N$, is $\\frac24$, going to colorado, $C$, is $\\frac 14$ and staying at home, $P$, is $\\frac14$."
      ]
    },
    {
      "cell_type": "code",
      "metadata": {
        "colab": {
          "base_uri": "https://localhost:8080/"
        },
        "id": "BWXGMRvzBSgg",
        "outputId": "ee2d76a9-e8cd-4459-d4b4-e7622ca2e964"
      },
      "source": [
        "P =[2/4,1/4,1/4]\n",
        "P"
      ],
      "execution_count": null,
      "outputs": [
        {
          "output_type": "execute_result",
          "data": {
            "text/plain": [
              "[0.5, 0.25, 0.25]"
            ]
          },
          "metadata": {},
          "execution_count": 47
        }
      ]
    },
    {
      "cell_type": "code",
      "metadata": {
        "colab": {
          "base_uri": "https://localhost:8080/"
        },
        "id": "t4ssh9fSDvcy",
        "outputId": "711b04f7-0ca8-4dcc-d79e-74ebcd3091d3"
      },
      "source": [
        "sum(P)"
      ],
      "execution_count": null,
      "outputs": [
        {
          "output_type": "execute_result",
          "data": {
            "text/plain": [
              "1.0"
            ]
          },
          "metadata": {},
          "execution_count": 48
        }
      ]
    },
    {
      "cell_type": "markdown",
      "metadata": {
        "id": "AwMKENzJ_e6a"
      },
      "source": [
        "A compound event is going either New York or Colorado. Lets call this probability 𝑅 "
      ]
    },
    {
      "cell_type": "code",
      "metadata": {
        "id": "e5BEZdpiBtCQ"
      },
      "source": [
        "ProbabilityR = 0\n",
        "for i in [0,2]:\n",
        "  ProbabilityR = ProbabilityR + P[i]"
      ],
      "execution_count": null,
      "outputs": []
    },
    {
      "cell_type": "code",
      "metadata": {
        "colab": {
          "base_uri": "https://localhost:8080/"
        },
        "id": "RwMBOjFWC-SU",
        "outputId": "a621d071-425a-471c-91cf-fa8c926c866e"
      },
      "source": [
        "  ProbabilityR"
      ],
      "execution_count": null,
      "outputs": [
        {
          "output_type": "execute_result",
          "data": {
            "text/plain": [
              "0.75"
            ]
          },
          "metadata": {},
          "execution_count": 50
        }
      ]
    },
    {
      "cell_type": "markdown",
      "metadata": {
        "id": "swknCFV_CyuO"
      },
      "source": [
        "Let's compute the probability of a intersection of the event.\n",
        "\n",
        "Formul for probability intersection:\n",
        "\n",
        "$$P(A\\cap B) = P(A)*P(B)$$"
      ]
    },
    {
      "cell_type": "code",
      "metadata": {
        "colab": {
          "base_uri": "https://localhost:8080/"
        },
        "id": "7-QSjn5BBNhm",
        "outputId": "ccbb887e-7102-4dfc-e255-a5b11ef86263"
      },
      "source": [
        "intersection = P[0]*ProbabilityR\n",
        "intersection"
      ],
      "execution_count": null,
      "outputs": [
        {
          "output_type": "execute_result",
          "data": {
            "text/plain": [
              "0.375"
            ]
          },
          "metadata": {},
          "execution_count": 52
        }
      ]
    },
    {
      "cell_type": "markdown",
      "metadata": {
        "id": "uK7WfrjkBenc"
      },
      "source": [
        "Let's compute the probability of a union of the event.\n",
        "\n",
        "Formul for probability union:\n",
        "$$P(A\\cup B) = P(A)+P(B)-P(A\\cap B)$$"
      ]
    },
    {
      "cell_type": "code",
      "metadata": {
        "colab": {
          "base_uri": "https://localhost:8080/"
        },
        "id": "zYsLFjbXBR9f",
        "outputId": "a3b236ef-b330-4747-f791-6ad48a147839"
      },
      "source": [
        "Union= P[0]+ProbabilityR-intersection\n",
        "Union"
      ],
      "execution_count": null,
      "outputs": [
        {
          "output_type": "execute_result",
          "data": {
            "text/plain": [
              "0.875"
            ]
          },
          "metadata": {},
          "execution_count": 53
        }
      ]
    },
    {
      "cell_type": "markdown",
      "metadata": {
        "id": "Ip_LfPg9DaXq"
      },
      "source": [
        "What is the probability of a natural given\n",
        "\n",
        "$$\n",
        "P(N|R)=\\frac{P(N\\cap R)}{P(R)}\n",
        "$$"
      ]
    },
    {
      "cell_type": "code",
      "metadata": {
        "id": "o63CzS3GN7r-"
      },
      "source": [
        ""
      ],
      "execution_count": null,
      "outputs": []
    },
    {
      "cell_type": "code",
      "metadata": {
        "colab": {
          "base_uri": "https://localhost:8080/"
        },
        "id": "ruB7z3eVDdBC",
        "outputId": "2b74dc69-0e67-4d15-85c0-8839c75b1e4a"
      },
      "source": [
        "2/9/ProbabilityR"
      ],
      "execution_count": null,
      "outputs": [
        {
          "output_type": "execute_result",
          "data": {
            "text/plain": [
              "0.2962962962962963"
            ]
          },
          "metadata": {},
          "execution_count": 51
        }
      ]
    },
    {
      "cell_type": "code",
      "metadata": {
        "colab": {
          "base_uri": "https://localhost:8080/"
        },
        "id": "lR94Bsz0c3rB",
        "outputId": "91d07060-4dd6-4f1a-e8be-bfc517d4d6bc"
      },
      "source": [
        "from math import factorial\n",
        "factorial (52)"
      ],
      "execution_count": null,
      "outputs": [
        {
          "output_type": "execute_result",
          "data": {
            "text/plain": [
              "80658175170943878571660636856403766975289505440883277824000000000000"
            ]
          },
          "metadata": {},
          "execution_count": 22
        }
      ]
    },
    {
      "cell_type": "code",
      "metadata": {
        "colab": {
          "base_uri": "https://localhost:8080/"
        },
        "id": "um0wo7z2dRnU",
        "outputId": "61108199-4c98-41fc-90bb-1057eab80062"
      },
      "source": [
        "for i in range (20):\n",
        "  print(factorial(i))  \n"
      ],
      "execution_count": null,
      "outputs": [
        {
          "output_type": "stream",
          "name": "stdout",
          "text": [
            "1\n",
            "1\n",
            "2\n",
            "6\n",
            "24\n",
            "120\n",
            "720\n",
            "5040\n",
            "40320\n",
            "362880\n",
            "3628800\n",
            "39916800\n",
            "479001600\n",
            "6227020800\n",
            "87178291200\n",
            "1307674368000\n",
            "20922789888000\n",
            "355687428096000\n",
            "6402373705728000\n",
            "121645100408832000\n"
          ]
        }
      ]
    },
    {
      "cell_type": "code",
      "metadata": {
        "id": "84gZ62945Yyp"
      },
      "source": [
        "ProbabilityW = P[0]"
      ],
      "execution_count": null,
      "outputs": []
    },
    {
      "cell_type": "markdown",
      "metadata": {
        "id": "yrjbm_Sb5d8k"
      },
      "source": [
        "So now I'll examine both the intersetion, $R\\cap W$  and union, $R\\cup W$.\n",
        "\n",
        "The formula for union:\n",
        "\n",
        "$$\n",
        "Pr(R\\cup W) = Pr(R) + Pr(W) - Pr(R\\cap W)\n",
        "$$\n"
      ]
    },
    {
      "cell_type": "code",
      "metadata": {
        "colab": {
          "base_uri": "https://localhost:8080/"
        },
        "id": "Pk8rPmoP5iCI",
        "outputId": "6b87fbd0-255d-46f5-fb74-711d7b738000"
      },
      "source": [
        "RintersectW = P[0]\n",
        "\n",
        "RunionW = ProbabilityR + ProbabilityW - RintersectW\n",
        "RunionW"
      ],
      "execution_count": null,
      "outputs": [
        {
          "output_type": "execute_result",
          "data": {
            "text/plain": [
              "0.75"
            ]
          },
          "metadata": {},
          "execution_count": 33
        }
      ]
    },
    {
      "cell_type": "markdown",
      "metadata": {
        "id": "wb71Sgky57BC"
      },
      "source": [
        "What is the probability of going to New York\n",
        "$$\n",
        "P(N|R)=\\frac{P(N\\cap R)}{P(R)}\n",
        "$$"
      ]
    },
    {
      "cell_type": "code",
      "metadata": {
        "colab": {
          "base_uri": "https://localhost:8080/"
        },
        "id": "z3q7Q-wJ5x4b",
        "outputId": "f80938eb-d84f-4bef-db32-75731726b4a6"
      },
      "source": [
        "3/4/ProbabilityR"
      ],
      "execution_count": null,
      "outputs": [
        {
          "output_type": "execute_result",
          "data": {
            "text/plain": [
              "1.0"
            ]
          },
          "metadata": {},
          "execution_count": 59
        }
      ]
    },
    {
      "cell_type": "markdown",
      "metadata": {
        "id": "hV2c40hU6MT5"
      },
      "source": [
        "As for the probability of going to New York given that\n",
        "\n",
        "To apply Bayes' formula!\n",
        "\n",
        "$$\n",
        "P(N|R) = \\frac{P(N)P(R|N)}{P(R)}\n",
        "$$"
      ]
    },
    {
      "cell_type": "code",
      "metadata": {
        "colab": {
          "base_uri": "https://localhost:8080/"
        },
        "id": "vweEXVqO6aRb",
        "outputId": "6c9f2473-dadc-4bf2-baa9-21ef11240e33"
      },
      "source": [
        ".25 == (2/4 * 1)/ProbabilityR"
      ],
      "execution_count": null,
      "outputs": [
        {
          "output_type": "execute_result",
          "data": {
            "text/plain": [
              "False"
            ]
          },
          "metadata": {},
          "execution_count": 68
        }
      ]
    },
    {
      "cell_type": "markdown",
      "metadata": {
        "id": "rXLOCeIwFmkc"
      },
      "source": [
        "mulation. I will be computing the frequency counts so I will be multiplying by 4."
      ]
    },
    {
      "cell_type": "code",
      "metadata": {
        "colab": {
          "base_uri": "https://localhost:8080/"
        },
        "id": "G80tQ8BG-dzJ",
        "outputId": "589a8bf2-da23-4b27-fd23-a6f0b6e9945f"
      },
      "source": [
        "P4 = [4*i for i in P]\n",
        "P =[2/4,1/4,1/4]\n",
        "P4"
      ],
      "execution_count": null,
      "outputs": [
        {
          "output_type": "execute_result",
          "data": {
            "text/plain": [
              "[2.0, 1.0, 1.0]"
            ]
          },
          "metadata": {},
          "execution_count": 62
        }
      ]
    },
    {
      "cell_type": "markdown",
      "metadata": {
        "id": "_HfrJFgxF94o"
      },
      "source": [
        "Let's generate random choices"
      ]
    },
    {
      "cell_type": "code",
      "metadata": {
        "colab": {
          "base_uri": "https://localhost:8080/"
        },
        "id": "LAYp56sa-wJa",
        "outputId": "e81d3b6b-ab86-4ac6-a30e-a1ba20ea0044"
      },
      "source": [
        "from random import choices\n",
        "\n",
        "\n",
        "choices(['new york','colorado','stay home'],P4,k=10)"
      ],
      "execution_count": null,
      "outputs": [
        {
          "output_type": "execute_result",
          "data": {
            "text/plain": [
              "['colorado',\n",
              " 'new york',\n",
              " 'new york',\n",
              " 'stay home',\n",
              " 'colorado',\n",
              " 'new york',\n",
              " 'stay home',\n",
              " 'new york',\n",
              " 'stay home',\n",
              " 'colorado']"
            ]
          },
          "metadata": {},
          "execution_count": 63
        }
      ]
    },
    {
      "cell_type": "markdown",
      "metadata": {
        "id": "ggNjyQWiCKIi"
      },
      "source": [
        "## 2 Counting"
      ]
    },
    {
      "cell_type": "code",
      "metadata": {
        "id": "pSu4B_ykCODo",
        "colab": {
          "base_uri": "https://localhost:8080/"
        },
        "outputId": "65292493-b988-4f83-bf5e-181e8a641782"
      },
      "source": [
        "4**10"
      ],
      "execution_count": null,
      "outputs": [
        {
          "output_type": "execute_result",
          "data": {
            "text/plain": [
              "1048576"
            ]
          },
          "metadata": {},
          "execution_count": 90
        }
      ]
    },
    {
      "cell_type": "markdown",
      "metadata": {
        "id": "oCTFQ9A8KkPN"
      },
      "source": [
        "If there are $n$ objects and $k$ slots but order does not matter, the formula is\n",
        "\n",
        "$$\n",
        "\\binom{n+k-1}{k-1} = \\binom{n+k-1}{n}\n",
        "$$\n",
        "\n",
        "There will be 10 objects and they falls into 4 categories.\n",
        "\n",
        "$$\n",
        "\\frac{(10+4−1)!}{10!(4−1)!}\n",
        "$$\n",
        "\n",
        "$$\n",
        "\\frac{13!}{10!(3)!}\n",
        "$$"
      ]
    },
    {
      "cell_type": "code",
      "metadata": {
        "colab": {
          "base_uri": "https://localhost:8080/"
        },
        "id": "_Z0TNPwLKOiz",
        "outputId": "724f2d8c-b94f-4a7b-a16d-d46b1159da7d"
      },
      "source": [
        "import math\n",
        "math.factorial(13)/(math.factorial(10)*math.factorial(3))"
      ],
      "execution_count": null,
      "outputs": [
        {
          "output_type": "execute_result",
          "data": {
            "text/plain": [
              "286.0"
            ]
          },
          "metadata": {},
          "execution_count": 91
        }
      ]
    },
    {
      "cell_type": "markdown",
      "metadata": {
        "id": "TMNWIvEqOIRl"
      },
      "source": [
        "The function combinations_with_replacement"
      ]
    },
    {
      "cell_type": "code",
      "metadata": {
        "colab": {
          "base_uri": "https://localhost:8080/"
        },
        "id": "l8C2mH5BKth-",
        "outputId": "c0859ecc-23f3-468e-bce7-66ba1a1e18ab"
      },
      "source": [
        "from itertools import combinations_with_replacement\n",
        "\n",
        "print(list(combinations_with_replacement(['a','b','c'],4)))"
      ],
      "execution_count": null,
      "outputs": [
        {
          "output_type": "stream",
          "name": "stdout",
          "text": [
            "[('a', 'a', 'a', 'a'), ('a', 'a', 'a', 'b'), ('a', 'a', 'a', 'c'), ('a', 'a', 'b', 'b'), ('a', 'a', 'b', 'c'), ('a', 'a', 'c', 'c'), ('a', 'b', 'b', 'b'), ('a', 'b', 'b', 'c'), ('a', 'b', 'c', 'c'), ('a', 'c', 'c', 'c'), ('b', 'b', 'b', 'b'), ('b', 'b', 'b', 'c'), ('b', 'b', 'c', 'c'), ('b', 'c', 'c', 'c'), ('c', 'c', 'c', 'c')]\n"
          ]
        }
      ]
    },
    {
      "cell_type": "markdown",
      "metadata": {
        "id": "FJm5dHsyK6TZ"
      },
      "source": [
        "\n",
        "If not allowed to repeat the categories we cannot fill the 10 spaces. We can only have 4 spaces maximum for 4 categories. If order matters formula we follow $nPm = \\frac{4!}{(0-4)!}$\n",
        "So, we use $4!$\n"
      ]
    },
    {
      "cell_type": "code",
      "metadata": {
        "colab": {
          "base_uri": "https://localhost:8080/"
        },
        "id": "eSe3rWLQgGOm",
        "outputId": "1dd82bf1-3325-46be-a508-0b9127d4bfa5"
      },
      "source": [
        "math.factorial(4)"
      ],
      "execution_count": null,
      "outputs": [
        {
          "output_type": "execute_result",
          "data": {
            "text/plain": [
              "24"
            ]
          },
          "metadata": {},
          "execution_count": 94
        }
      ]
    },
    {
      "cell_type": "markdown",
      "metadata": {
        "id": "7bMdLU2ENWIf"
      },
      "source": [
        "\n",
        "If order doesn't matter we use $nCm = \\frac{4!}{0!.4!}$"
      ]
    },
    {
      "cell_type": "code",
      "metadata": {
        "colab": {
          "base_uri": "https://localhost:8080/"
        },
        "id": "KWgQNiLHK7zh",
        "outputId": "4a17b0cf-d7b7-44b3-b20d-23b3640a48b2"
      },
      "source": [
        "math.factorial(4)\n",
        "math.factorial(4)/(math.factorial(0)*math.factorial(4))"
      ],
      "execution_count": null,
      "outputs": [
        {
          "output_type": "execute_result",
          "data": {
            "text/plain": [
              "1.0"
            ]
          },
          "metadata": {},
          "execution_count": 95
        }
      ]
    },
    {
      "cell_type": "markdown",
      "metadata": {
        "id": "zBeqkKPYNcIn"
      },
      "source": [
        "Let's find out the coefficent of the 5th order of $$\\left(x+2\\right)^9$$"
      ]
    },
    {
      "cell_type": "markdown",
      "metadata": {
        "id": "uVp5n33Q5hUf"
      },
      "source": [
        "Binomial Theorem says\n",
        "\n",
        "$$\n",
        "\\left(x+y\\right)^9 = \\sum_{n = 0}^9\\binom 9 n x^ny^{9-n}\n",
        "$$\n",
        "\n",
        "So here we have \n",
        "\n",
        "$$\n",
        "\\left(x+2\\right)^9 = \\sum_{n = 0}^9\\binom 9 n x^n2^{9-n}\n",
        "$$\n"
      ]
    },
    {
      "cell_type": "code",
      "metadata": {
        "colab": {
          "base_uri": "https://localhost:8080/"
        },
        "id": "W_TKZUFRugdh",
        "outputId": "55f9c2a7-dadb-4686-d3d5-e60277e149dc"
      },
      "source": [
        "(math.factorial(9)/(math.factorial(9-4)*math.factorial(4)))*16"
      ],
      "execution_count": null,
      "outputs": [
        {
          "output_type": "execute_result",
          "data": {
            "text/plain": [
              "2016.0"
            ]
          },
          "metadata": {},
          "execution_count": 84
        }
      ]
    },
    {
      "cell_type": "markdown",
      "metadata": {
        "id": "ynz_nmkGLIZY"
      },
      "source": [
        "I think I was able to do almost everything Dr. Jacob asked in the project requirements. I was having trouble doing lot of coading like finding intersection and union. I wasn't sure which one is P(A) and P(B) but hopefully the way I did is right. Also, In counting section I was confused in coading specially in the last question about binomial theorem. I tried but not sure if it is the right way to do. All this things is very easy when we do it by hand but when it comes to doing all this in python, I feel lost. Eventhoug it feels hard and take lots of time to figure out how to write but when it works at the end it feels really good. If anyone knows coading, doing math in python would be best way to do math."
      ]
    }
  ]
}